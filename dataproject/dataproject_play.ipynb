{
 "nbformat": 4,
 "nbformat_minor": 2,
 "metadata": {
  "language_info": {
   "name": "python",
   "codemirror_mode": {
    "name": "ipython",
    "version": 3
   },
   "version": "3.7.4-final"
  },
  "orig_nbformat": 2,
  "file_extension": ".py",
  "mimetype": "text/x-python",
  "name": "python",
  "npconvert_exporter": "python",
  "pygments_lexer": "ipython3",
  "version": 3,
  "kernelspec": {
   "name": "python3",
   "display_name": "Python 3"
  }
 },
 "cells": [
  {
   "cell_type": "code",
   "execution_count": 74,
   "metadata": {},
   "outputs": [
    {
     "name": "stdout",
     "output_type": "stream",
     "text": "The autoreload extension is already loaded. To reload it, use:\n  %reload_ext autoreload\n"
    }
   ],
   "source": [
    "import pandas as pd\n",
    "\n",
    "\n",
    "# autoreload modules when code is run\n",
    "%load_ext autoreload\n",
    "%autoreload 2\n",
    "\n",
    "# local modules\n",
    "import dataproject"
   ]
  },
  {
   "cell_type": "code",
   "execution_count": 75,
   "metadata": {},
   "outputs": [
    {
     "name": "stdout",
     "output_type": "stream",
     "text": "Div        Date      HomeTeam        AwayTeam  FTHG  FTAG FTR  HTHG  HTAG  \\\n0    E0  10/08/2018    Man United       Leicester     2     1   H     1     0   \n1    E0  11/08/2018   Bournemouth         Cardiff     2     0   H     1     0   \n2    E0  11/08/2018        Fulham  Crystal Palace     0     2   A     0     1   \n3    E0  11/08/2018  Huddersfield         Chelsea     0     3   A     0     2   \n4    E0  11/08/2018     Newcastle       Tottenham     1     2   A     1     2   \n..   ..         ...           ...             ...   ...   ...  ..   ...   ...   \n375  E0  12/05/2019     Liverpool          Wolves     2     0   H     1     0   \n376  E0  12/05/2019    Man United         Cardiff     0     2   A     0     1   \n377  E0  12/05/2019   Southampton    Huddersfield     1     1   D     1     0   \n378  E0  12/05/2019     Tottenham         Everton     2     2   D     1     0   \n379  E0  12/05/2019       Watford        West Ham     1     4   A     0     2   \n\n    HTR  ... BbAv<2.5  BbAH  BbAHh  BbMxAHH  BbAvAHH  BbMxAHA  BbAvAHA  PSCH  \\\n0     H  ...     1.79    17  -0.75     1.75     1.70     2.29     2.21  1.55   \n1     H  ...     1.83    20  -0.75     2.20     2.13     1.80     1.75  1.88   \n2     A  ...     1.87    22  -0.25     2.18     2.11     1.81     1.77  2.62   \n3     A  ...     1.84    23   1.00     1.84     1.80     2.13     2.06  7.24   \n4     A  ...     1.81    20   0.25     2.20     2.12     1.80     1.76  4.74   \n..   ..  ...      ...   ...    ...      ...      ...      ...      ...   ...   \n375   H  ...     2.31    22  -1.50     1.98     1.91     2.01     1.95  1.32   \n376   A  ...     2.95    21  -2.00     2.52     2.32     1.72     1.64  1.30   \n377   H  ...     2.29    22  -1.50     2.27     2.16     1.80     1.73  1.37   \n378   H  ...     2.07    19  -0.50     2.13     2.08     1.85     1.80  1.91   \n379   A  ...     2.44    19  -0.50     2.25     2.19     1.78     1.72  2.11   \n\n     PSCD  PSCA  \n0    4.07  7.69  \n1    3.61  4.70  \n2    3.38  2.90  \n3    3.95  1.58  \n4    3.53  1.89  \n..    ...   ...  \n375  5.89  9.48  \n376  6.06  9.71  \n377  5.36  8.49  \n378  3.81  4.15  \n379  3.86  3.41  \n\n[380 rows x 62 columns]\n0      H\n1      H\n2      A\n3      A\n4      A\n      ..\n375    H\n376    A\n377    D\n378    D\n379    A\nName: FTR, Length: 380, dtype: object\n    FTR  B365H  B365D  B365A  H_true  D_true  A_true\n0     H   1.57   3.90   7.50       1       0       0\n1     H   1.90   3.60   4.50       1       0       0\n2     A   2.50   3.40   3.00       0       0       1\n3     A   6.50   4.00   1.61       0       0       1\n4     A   3.90   3.50   2.04       0       0       1\n..   ..    ...    ...    ...     ...     ...     ...\n375   H   1.30   6.00  11.00       1       0       0\n376   A   1.28   6.50  11.00       0       0       1\n377   D   1.44   4.75   8.50       0       1       0\n378   D   2.20   3.50   3.50       0       1       0\n379   A   2.25   3.75   3.20       0       0       1\n\n[380 rows x 7 columns]\n0      0.00\n1      0.00\n2      0.00\n3      0.00\n4      0.00\n       ... \n375    0.00\n376    0.00\n377    4.75\n378    3.50\n379    0.00\nLength: 380, dtype: float64\n281.51\n-98.49000000000001\n-0.2591842105263158\n"
    }
   ],
   "source": [
    "# a. load PL data\n",
    "pl = pd.read_csv('season-1819_csv.csv')\n",
    "\n",
    "# b. print PL data\n",
    "\n",
    "print(pl)\n",
    "\n",
    "print(pl.loc[:, 'FTR'])\n",
    "\n",
    "# c. choose relevant data in df\n",
    "\n",
    "df = pd.DataFrame(pl,  columns=['FTR', 'B365H', 'B365D', 'B365A'])\n",
    "\n",
    "# d. add boolean of result Home, Draw, Away and then print df\n",
    "\n",
    "df['H_true'] = df['FTR'].str.count(\"H\")\n",
    "df['D_true'] = df['FTR'].str.count(\"D\")\n",
    "df['A_true'] = df['FTR'].str.count(\"A\")\n",
    "\n",
    "print(df)\n",
    "\n",
    "# e. multiply bolean of Draw (D_true) with B365 odds of draw to get each games return for you\n",
    "\n",
    "return_D = ( df.loc[:, 'D_true'] * df.loc[:, 'B365D'] )\n",
    "\n",
    "print(return_D)\n",
    "\n",
    "# f. sum these individual returns to get you full season return\n",
    "\n",
    "sum_return_D = return_D.sum()\n",
    "\n",
    "print(sum_return_D)\n",
    "\n",
    "#g. find the net return by subtracting the DKK 1 * 380 games = DKK 380 you have betted during the season to find your gain/loss\n",
    "\n",
    "net_return_D = sum_return_D - 380\n",
    "\n",
    "print(net_return_D)\n",
    "\n",
    "#g. find the return in percentage by dividing you gain with the DKK 1 * 380 games = DKK 380 you have betted during the season and subtract 1.\n",
    "\n",
    "net_pct_returm_D = sum_return_D / 380 - 1\n",
    "\n",
    "print(net_pct_returm_D)\n"
   ]
  },
  {
   "cell_type": "code",
   "execution_count": 76,
   "metadata": {},
   "outputs": [
    {
     "name": "stdout",
     "output_type": "stream",
     "text": "Div        Date      HomeTeam        AwayTeam  FTHG  FTAG FTR  HTHG  HTAG  \\\n0    E0  10/08/2018    Man United       Leicester     2     1   H     1     0   \n1    E0  11/08/2018   Bournemouth         Cardiff     2     0   H     1     0   \n2    E0  11/08/2018        Fulham  Crystal Palace     0     2   A     0     1   \n3    E0  11/08/2018  Huddersfield         Chelsea     0     3   A     0     2   \n4    E0  11/08/2018     Newcastle       Tottenham     1     2   A     1     2   \n..   ..         ...           ...             ...   ...   ...  ..   ...   ...   \n375  E0  12/05/2019     Liverpool          Wolves     2     0   H     1     0   \n376  E0  12/05/2019    Man United         Cardiff     0     2   A     0     1   \n377  E0  12/05/2019   Southampton    Huddersfield     1     1   D     1     0   \n378  E0  12/05/2019     Tottenham         Everton     2     2   D     1     0   \n379  E0  12/05/2019       Watford        West Ham     1     4   A     0     2   \n\n    HTR  ... BbAv<2.5  BbAH  BbAHh  BbMxAHH  BbAvAHH  BbMxAHA  BbAvAHA  PSCH  \\\n0     H  ...     1.79    17  -0.75     1.75     1.70     2.29     2.21  1.55   \n1     H  ...     1.83    20  -0.75     2.20     2.13     1.80     1.75  1.88   \n2     A  ...     1.87    22  -0.25     2.18     2.11     1.81     1.77  2.62   \n3     A  ...     1.84    23   1.00     1.84     1.80     2.13     2.06  7.24   \n4     A  ...     1.81    20   0.25     2.20     2.12     1.80     1.76  4.74   \n..   ..  ...      ...   ...    ...      ...      ...      ...      ...   ...   \n375   H  ...     2.31    22  -1.50     1.98     1.91     2.01     1.95  1.32   \n376   A  ...     2.95    21  -2.00     2.52     2.32     1.72     1.64  1.30   \n377   H  ...     2.29    22  -1.50     2.27     2.16     1.80     1.73  1.37   \n378   H  ...     2.07    19  -0.50     2.13     2.08     1.85     1.80  1.91   \n379   A  ...     2.44    19  -0.50     2.25     2.19     1.78     1.72  2.11   \n\n     PSCD  PSCA  \n0    4.07  7.69  \n1    3.61  4.70  \n2    3.38  2.90  \n3    3.95  1.58  \n4    3.53  1.89  \n..    ...   ...  \n375  5.89  9.48  \n376  6.06  9.71  \n377  5.36  8.49  \n378  3.81  4.15  \n379  3.86  3.41  \n\n[380 rows x 62 columns]\n0      H\n1      H\n2      A\n3      A\n4      A\n      ..\n375    H\n376    A\n377    D\n378    D\n379    A\nName: FTR, Length: 380, dtype: object\n    FTR  B365H  B365D  B365A  H_true  D_true  A_true\n0     H   1.57   3.90   7.50       1       0       0\n1     H   1.90   3.60   4.50       1       0       0\n2     A   2.50   3.40   3.00       0       0       1\n3     A   6.50   4.00   1.61       0       0       1\n4     A   3.90   3.50   2.04       0       0       1\n..   ..    ...    ...    ...     ...     ...     ...\n375   H   1.30   6.00  11.00       1       0       0\n376   A   1.28   6.50  11.00       0       0       1\n377   D   1.44   4.75   8.50       0       1       0\n378   D   2.20   3.50   3.50       0       1       0\n379   A   2.25   3.75   3.20       0       0       1\n\n[380 rows x 7 columns]\n0       0.00\n1       0.00\n2       3.00\n3       1.61\n4       2.04\n       ...  \n375     0.00\n376    11.00\n377     0.00\n378     0.00\n379     3.20\nLength: 380, dtype: float64\n372.55\n-7.449999999999989\n-0.01960526315789468\n"
    }
   ],
   "source": [
    "# a. load PL data\n",
    "pl = pd.read_csv('season-1819_csv.csv')\n",
    "\n",
    "# b. print PL data\n",
    "\n",
    "print(pl)\n",
    "\n",
    "print(pl.loc[:, 'FTR'])\n",
    "\n",
    "# c. choose relevant data in df\n",
    "\n",
    "df = pd.DataFrame(pl,  columns=['FTR', 'B365H', 'B365D', 'B365A'])\n",
    "\n",
    "# d. add boolean of result Home, Draw, Away and then print df\n",
    "\n",
    "df['H_true'] = df['FTR'].str.count(\"H\")\n",
    "df['D_true'] = df['FTR'].str.count(\"D\")\n",
    "df['A_true'] = df['FTR'].str.count(\"A\")\n",
    "\n",
    "print(df)\n",
    "\n",
    "# e. multiply bolean of Away (A_true) with B365 odds of draw to get each games return for you\n",
    "\n",
    "return_A = ( df.loc[:, 'A_true'] * df.loc[:, 'B365A'] )\n",
    "\n",
    "print(return_A)\n",
    "\n",
    "# f. sum these individual returns to get you full season return\n",
    "\n",
    "sum_return_A = return_A.sum()\n",
    "\n",
    "print(sum_return_A)\n",
    "\n",
    "#g. find the net return by subtracting the DKK 1 * 380 games = DKK 380 you have betted during the season to find your gain/loss\n",
    "\n",
    "net_return_A = sum_return_A - 380\n",
    "\n",
    "print(net_return_A)\n",
    "\n",
    "#g. find the return in percentage by dividing you gain with the DKK 1 * 380 games = DKK 380 you have betted during the season and subtract 1.\n",
    "\n",
    "net_pct_returm_A = sum_return_A / 380 - 1\n",
    "\n",
    "print(net_pct_returm_A)"
   ]
  },
  {
   "cell_type": "code",
   "execution_count": 77,
   "metadata": {},
   "outputs": [
    {
     "name": "stdout",
     "output_type": "stream",
     "text": "Div        Date      HomeTeam        AwayTeam  FTHG  FTAG FTR  HTHG  HTAG  \\\n0    E0  10/08/2018    Man United       Leicester     2     1   H     1     0   \n1    E0  11/08/2018   Bournemouth         Cardiff     2     0   H     1     0   \n2    E0  11/08/2018        Fulham  Crystal Palace     0     2   A     0     1   \n3    E0  11/08/2018  Huddersfield         Chelsea     0     3   A     0     2   \n4    E0  11/08/2018     Newcastle       Tottenham     1     2   A     1     2   \n..   ..         ...           ...             ...   ...   ...  ..   ...   ...   \n375  E0  12/05/2019     Liverpool          Wolves     2     0   H     1     0   \n376  E0  12/05/2019    Man United         Cardiff     0     2   A     0     1   \n377  E0  12/05/2019   Southampton    Huddersfield     1     1   D     1     0   \n378  E0  12/05/2019     Tottenham         Everton     2     2   D     1     0   \n379  E0  12/05/2019       Watford        West Ham     1     4   A     0     2   \n\n    HTR  ... BbAv<2.5  BbAH  BbAHh  BbMxAHH  BbAvAHH  BbMxAHA  BbAvAHA  PSCH  \\\n0     H  ...     1.79    17  -0.75     1.75     1.70     2.29     2.21  1.55   \n1     H  ...     1.83    20  -0.75     2.20     2.13     1.80     1.75  1.88   \n2     A  ...     1.87    22  -0.25     2.18     2.11     1.81     1.77  2.62   \n3     A  ...     1.84    23   1.00     1.84     1.80     2.13     2.06  7.24   \n4     A  ...     1.81    20   0.25     2.20     2.12     1.80     1.76  4.74   \n..   ..  ...      ...   ...    ...      ...      ...      ...      ...   ...   \n375   H  ...     2.31    22  -1.50     1.98     1.91     2.01     1.95  1.32   \n376   A  ...     2.95    21  -2.00     2.52     2.32     1.72     1.64  1.30   \n377   H  ...     2.29    22  -1.50     2.27     2.16     1.80     1.73  1.37   \n378   H  ...     2.07    19  -0.50     2.13     2.08     1.85     1.80  1.91   \n379   A  ...     2.44    19  -0.50     2.25     2.19     1.78     1.72  2.11   \n\n     PSCD  PSCA  \n0    4.07  7.69  \n1    3.61  4.70  \n2    3.38  2.90  \n3    3.95  1.58  \n4    3.53  1.89  \n..    ...   ...  \n375  5.89  9.48  \n376  6.06  9.71  \n377  5.36  8.49  \n378  3.81  4.15  \n379  3.86  3.41  \n\n[380 rows x 62 columns]\n0      H\n1      H\n2      A\n3      A\n4      A\n      ..\n375    H\n376    A\n377    D\n378    D\n379    A\nName: FTR, Length: 380, dtype: object\n    FTR  B365H  B365D  B365A  H_true  D_true  A_true\n0     H   1.57   3.90   7.50       1       0       0\n1     H   1.90   3.60   4.50       1       0       0\n2     A   2.50   3.40   3.00       0       0       1\n3     A   6.50   4.00   1.61       0       0       1\n4     A   3.90   3.50   2.04       0       0       1\n..   ..    ...    ...    ...     ...     ...     ...\n375   H   1.30   6.00  11.00       1       0       0\n376   A   1.28   6.50  11.00       0       0       1\n377   D   1.44   4.75   8.50       0       1       0\n378   D   2.20   3.50   3.50       0       1       0\n379   A   2.25   3.75   3.20       0       0       1\n\n[380 rows x 7 columns]\n0      1.57\n1      1.90\n2      0.00\n3      0.00\n4      0.00\n       ... \n375    1.30\n376    0.00\n377    0.00\n378    0.00\n379    0.00\nLength: 380, dtype: float64\n399.18\n19.180000000000007\n0.050473684210526226\n"
    }
   ],
   "source": [
    "# a. load PL data\n",
    "pl = pd.read_csv('season-1819_csv.csv')\n",
    "\n",
    "# b. print PL data\n",
    "\n",
    "print(pl)\n",
    "\n",
    "print(pl.loc[:, 'FTR'])\n",
    "\n",
    "# c. choose relevant data in df\n",
    "\n",
    "df = pd.DataFrame(pl,  columns=['FTR', 'B365H', 'B365D', 'B365A'])\n",
    "\n",
    "# d. add boolean of result Home, Draw, Away and then print df\n",
    "\n",
    "df['H_true'] = df['FTR'].str.count(\"H\")\n",
    "df['D_true'] = df['FTR'].str.count(\"D\")\n",
    "df['A_true'] = df['FTR'].str.count(\"A\")\n",
    "\n",
    "print(df)\n",
    "\n",
    "# e. multiply bolean of Away (H_true) with B365 odds of draw to get each games return for you\n",
    "\n",
    "return_H = ( df.loc[:, 'H_true'] * df.loc[:, 'B365H'] )\n",
    "\n",
    "print(return_H)\n",
    "\n",
    "# f. sum these individual returns to get you full season return\n",
    "\n",
    "sum_return_H = return_H.sum()\n",
    "\n",
    "print(sum_return_H)\n",
    "\n",
    "#g. find the net return by subtracting the DKK 1 * 380 games = DKK 380 you have betted during the season to find your gain/loss\n",
    "\n",
    "net_return_H = sum_return_H - 380\n",
    "\n",
    "print(net_return_H)\n",
    "\n",
    "#g. find the return in percentage by dividing you gain with the DKK 1 * 380 games = DKK 380 you have betted during the season and subtract 1.\n",
    "\n",
    "net_pct_returm_H = sum_return_H / 380 - 1\n",
    "\n",
    "print(net_pct_returm_H)"
   ]
  }
 ]
}