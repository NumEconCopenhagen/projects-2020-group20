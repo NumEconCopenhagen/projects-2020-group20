{
 "nbformat": 4,
 "nbformat_minor": 2,
 "metadata": {
  "language_info": {
   "name": "python",
   "codemirror_mode": {
    "name": "ipython",
    "version": 3
   },
   "version": "3.7.4-final"
  },
  "orig_nbformat": 2,
  "file_extension": ".py",
  "mimetype": "text/x-python",
  "name": "python",
  "npconvert_exporter": "python",
  "pygments_lexer": "ipython3",
  "version": 3,
  "kernelspec": {
   "name": "python3",
   "display_name": "Python 3"
  }
 },
 "cells": [
  {
   "cell_type": "code",
   "execution_count": 67,
   "metadata": {},
   "outputs": [
    {
     "name": "stdout",
     "output_type": "stream",
     "text": "The autoreload extension is already loaded. To reload it, use:\n  %reload_ext autoreload\n"
    }
   ],
   "source": [
    "import pandas as pd\n",
    "\n",
    "\n",
    "# autoreload modules when code is run\n",
    "%load_ext autoreload\n",
    "%autoreload 2\n",
    "\n",
    "# local modules\n",
    "import dataproject"
   ]
  },
  {
   "cell_type": "code",
   "execution_count": 68,
   "metadata": {},
   "outputs": [
    {
     "name": "stdout",
     "output_type": "stream",
     "text": "Div        Date      HomeTeam        AwayTeam  FTHG  FTAG FTR  HTHG  HTAG  \\\n0    E0  10/08/2018    Man United       Leicester     2     1   H     1     0   \n1    E0  11/08/2018   Bournemouth         Cardiff     2     0   H     1     0   \n2    E0  11/08/2018        Fulham  Crystal Palace     0     2   A     0     1   \n3    E0  11/08/2018  Huddersfield         Chelsea     0     3   A     0     2   \n4    E0  11/08/2018     Newcastle       Tottenham     1     2   A     1     2   \n..   ..         ...           ...             ...   ...   ...  ..   ...   ...   \n375  E0  12/05/2019     Liverpool          Wolves     2     0   H     1     0   \n376  E0  12/05/2019    Man United         Cardiff     0     2   A     0     1   \n377  E0  12/05/2019   Southampton    Huddersfield     1     1   D     1     0   \n378  E0  12/05/2019     Tottenham         Everton     2     2   D     1     0   \n379  E0  12/05/2019       Watford        West Ham     1     4   A     0     2   \n\n    HTR  ... BbAv<2.5  BbAH  BbAHh  BbMxAHH  BbAvAHH  BbMxAHA  BbAvAHA  PSCH  \\\n0     H  ...     1.79    17  -0.75     1.75     1.70     2.29     2.21  1.55   \n1     H  ...     1.83    20  -0.75     2.20     2.13     1.80     1.75  1.88   \n2     A  ...     1.87    22  -0.25     2.18     2.11     1.81     1.77  2.62   \n3     A  ...     1.84    23   1.00     1.84     1.80     2.13     2.06  7.24   \n4     A  ...     1.81    20   0.25     2.20     2.12     1.80     1.76  4.74   \n..   ..  ...      ...   ...    ...      ...      ...      ...      ...   ...   \n375   H  ...     2.31    22  -1.50     1.98     1.91     2.01     1.95  1.32   \n376   A  ...     2.95    21  -2.00     2.52     2.32     1.72     1.64  1.30   \n377   H  ...     2.29    22  -1.50     2.27     2.16     1.80     1.73  1.37   \n378   H  ...     2.07    19  -0.50     2.13     2.08     1.85     1.80  1.91   \n379   A  ...     2.44    19  -0.50     2.25     2.19     1.78     1.72  2.11   \n\n     PSCD  PSCA  \n0    4.07  7.69  \n1    3.61  4.70  \n2    3.38  2.90  \n3    3.95  1.58  \n4    3.53  1.89  \n..    ...   ...  \n375  5.89  9.48  \n376  6.06  9.71  \n377  5.36  8.49  \n378  3.81  4.15  \n379  3.86  3.41  \n\n[380 rows x 62 columns]\n0      H\n1      H\n2      A\n3      A\n4      A\n      ..\n375    H\n376    A\n377    D\n378    D\n379    A\nName: FTR, Length: 380, dtype: object\n0      0\n1      0\n2      0\n3      0\n4      0\n      ..\n375    0\n376    0\n377    1\n378    1\n379    0\nName: FTR, Length: 380, dtype: int64\n    FTR  B365H  B365D  B365A  D_true\n0     H   1.57   3.90   7.50       0\n1     H   1.90   3.60   4.50       0\n2     A   2.50   3.40   3.00       0\n3     A   6.50   4.00   1.61       0\n4     A   3.90   3.50   2.04       0\n..   ..    ...    ...    ...     ...\n375   H   1.30   6.00  11.00       0\n376   A   1.28   6.50  11.00       0\n377   D   1.44   4.75   8.50       1\n378   D   2.20   3.50   3.50       1\n379   A   2.25   3.75   3.20       0\n\n[380 rows x 5 columns]\n0      0.00\n1      0.00\n2      0.00\n3      0.00\n4      0.00\n       ... \n375    0.00\n376    0.00\n377    4.75\n378    3.50\n379    0.00\nLength: 380, dtype: float64\n281.51\n-0.2591842105263158\n"
    }
   ],
   "source": [
    "# a. load\n",
    "pl = pd.read_csv('season-1819_csv.csv')\n",
    "\n",
    "print(pl)\n",
    "\n",
    "print(pl.loc[:, 'FTR'])\n",
    "\n",
    "df = pd.DataFrame(pl,  columns=['FTR', 'B365H', 'B365D', 'B365A'])\n",
    "\n",
    "print(df['FTR'].str.count(\"D\"))\n",
    "\n",
    "df['D_true'] = df['FTR'].str.count(\"D\")\n",
    "\n",
    "print(df)\n",
    "\n",
    "arbitrage = ( df.loc[:, 'D_true'] * df.loc[:, 'B365D'] )\n",
    "\n",
    "print(arbitrage)\n",
    "\n",
    "sum_arbitrage = arbitrage.sum()\n",
    "\n",
    "print(sum_arbitrage)\n",
    "\n",
    "avg_return_arbitrage = sum_arbitrage / 380 - 1\n",
    "\n",
    "print(avg_return_arbitrage)\n"
   ]
  }
 ]
}