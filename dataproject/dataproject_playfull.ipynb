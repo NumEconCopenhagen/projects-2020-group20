{
 "nbformat": 4,
 "nbformat_minor": 2,
 "metadata": {
  "language_info": {
   "name": "python",
   "codemirror_mode": {
    "name": "ipython",
    "version": 3
   },
   "version": "3.7.4-final"
  },
  "orig_nbformat": 2,
  "file_extension": ".py",
  "mimetype": "text/x-python",
  "name": "python",
  "npconvert_exporter": "python",
  "pygments_lexer": "ipython3",
  "version": 3,
  "kernelspec": {
   "name": "python3",
   "display_name": "Python 3"
  }
 },
 "cells": [
  {
   "cell_type": "code",
   "execution_count": 83,
   "metadata": {},
   "outputs": [
    {
     "output_type": "stream",
     "name": "stdout",
     "text": "The autoreload extension is already loaded. To reload it, use:\n  %reload_ext autoreload\n"
    }
   ],
   "source": [
    "import pandas as pd\n",
    "from datetime import datetime\n",
    "\n",
    "# autoreload modules when code is run\n",
    "%load_ext autoreload\n",
    "%autoreload 2\n",
    "\n",
    "# local modules\n",
    "import dataproject\n",
    ""
   ]
  },
  {
   "cell_type": "markdown",
   "metadata": {},
   "source": [
    "# Data work"
   ]
  },
  {
   "cell_type": "code",
   "execution_count": 84,
   "metadata": {},
   "outputs": [
    {
     "output_type": "stream",
     "name": "stdout",
     "text": "Date     HomeTeam Season      AwayTeam FTR  B365H  B365D  B365A  \\\n0    2009-08-15  Aston Villa  09/10         Wigan   A   1.67   3.60   5.50   \n1    2009-08-15    Blackburn  09/10      Man City   A   3.60   3.25   2.10   \n2    2009-08-15       Bolton  09/10    Sunderland   A   2.25   3.25   3.25   \n3    2009-08-15      Chelsea  09/10          Hull   H   1.17   6.50  21.00   \n4    2009-08-15      Everton  09/10       Arsenal   A   3.20   3.25   2.30   \n...         ...          ...    ...           ...  ..    ...    ...    ...   \n3795 2019-05-12    Liverpool  18/19        Wolves   H   1.30   6.00  11.00   \n3796 2019-05-12   Man United  18/19       Cardiff   A   1.28   6.50  11.00   \n3797 2019-05-12  Southampton  18/19  Huddersfield   D   1.44   4.75   8.50   \n3798 2019-05-12    Tottenham  18/19       Everton   D   2.20   3.50   3.50   \n3799 2019-05-12      Watford  18/19      West Ham   A   2.25   3.75   3.20   \n\n      H_true  D_true  A_true  Return_H  Return_D  Return_A  \n0          0       0       1      0.00      0.00      5.50  \n1          0       0       1      0.00      0.00      2.10  \n2          0       0       1      0.00      0.00      3.25  \n3          1       0       0      1.17      0.00      0.00  \n4          0       0       1      0.00      0.00      2.30  \n...      ...     ...     ...       ...       ...       ...  \n3795       1       0       0      1.30      0.00      0.00  \n3796       0       0       1      0.00      0.00     11.00  \n3797       0       1       0      0.00      4.75      0.00  \n3798       0       1       0      0.00      3.50      0.00  \n3799       0       0       1      0.00      0.00      3.20  \n\n[3800 rows x 14 columns]\n"
    }
   ],
   "source": [
    "# 1.a load data without unnecessary data\n",
    "raw_input = pd.read_csv('PL_all_seasons.csv', \\\n",
    "usecols=['Date','HomeTeam','AwayTeam','FTR','B365H','B365D','B365A'])\n",
    "\n",
    "# 1.b convert date from string to datetimes\n",
    "raw_input['Date'] = pd.to_datetime(raw_input['Date'], dayfirst = True)\n",
    "\n",
    "# 1.c append seasons\n",
    "# Add a new column named 'season' \n",
    "Type_new = pd.Series([])\n",
    "\n",
    "# running a for loop and asigning some values to series \n",
    "for i in range(len(raw_input)): \n",
    "    if raw_input[\"Date\"][i] < datetime(2010, 8, 10): \n",
    "        Type_new[i]=\"09/10\"\n",
    "  \n",
    "    elif raw_input[\"Date\"][i] < datetime(2011, 8, 10): \n",
    "        Type_new[i]=\"10/11\"\n",
    "  \n",
    "    elif raw_input[\"Date\"][i] < datetime(2012, 8, 10):  \n",
    "        Type_new[i]=\"11/12\"\n",
    "  \n",
    "    elif raw_input[\"Date\"][i] < datetime(2013, 8, 10):  \n",
    "        Type_new[i]=\"12/13\"\n",
    "  \n",
    "    elif raw_input[\"Date\"][i] < datetime(2014, 8, 10):  \n",
    "        Type_new[i]=\"13/14\"\n",
    "    \n",
    "    elif raw_input[\"Date\"][i] < datetime(2015, 8, 10):  \n",
    "        Type_new[i]=\"14/15\"\n",
    "  \n",
    "    elif raw_input[\"Date\"][i] < datetime(2016, 8, 10):  \n",
    "        Type_new[i]=\"15/16\"\n",
    "\n",
    "    elif raw_input[\"Date\"][i] < datetime(2017, 8, 10):  \n",
    "        Type_new[i]=\"16/17\"\n",
    "  \n",
    "    elif raw_input[\"Date\"][i] < datetime(2018, 8, 10):  \n",
    "        Type_new[i]=\"17/18\"\n",
    "  \n",
    "    elif raw_input[\"Date\"][i] < datetime(2019, 8, 10):  \n",
    "        Type_new[i]=\"18/19\"\n",
    "\n",
    "    else: \n",
    "        season[i]= raw_input[\"Date\"][i] \n",
    "  \n",
    "        \n",
    "        # inserting new column with values of list made above         \n",
    "raw_input.insert(2, \"Season\", Type_new) \n",
    "# raw_input.head(10)\n",
    "#####################################################################################################################\n",
    "\n",
    "# 1.d Combine total data frame\n",
    "\n",
    "df = pd.DataFrame(raw_input)\n",
    "\n",
    "# 1.e add boolean of result Home, Draw, Away and then print df\n",
    "\n",
    "df['H_true'] = df['FTR'].str.count(\"H\")\n",
    "df['D_true'] = df['FTR'].str.count(\"D\")\n",
    "df['A_true'] = df['FTR'].str.count(\"A\")\n",
    "\n",
    "# 1.f multiply bolean of Draw (D_true) with B365 odds of draw to get each games return for you\n",
    "\n",
    "df['Return_H'] = ( df.loc[:, 'H_true'] * df.loc[:, 'B365H'] )\n",
    "df['Return_D'] = ( df.loc[:, 'D_true'] * df.loc[:, 'B365D'] )\n",
    "df['Return_A'] = ( df.loc[:, 'A_true'] * df.loc[:, 'B365A'] )\n",
    "\n",
    "print(df)\n",
    ""
   ]
  },
  {
   "cell_type": "code",
   "execution_count": 85,
   "metadata": {},
   "outputs": [],
   "source": [
    "# Are there a 10 year returns on betting on either all away teams win (A), all games draw (D), or all home teams win (H)? Let's call these pure betting strategies H, D and A"
   ]
  },
  {
   "cell_type": "code",
   "execution_count": 86,
   "metadata": {},
   "outputs": [
    {
     "output_type": "stream",
     "name": "stdout",
     "text": "3504.25\n3578.21\n3804.42\n-295.75\n-221.78999999999996\n4.420000000000073\n-0.07782894736842105\n-0.058365789473684204\n0.001163157894736866\n"
    }
   ],
   "source": [
    "# 2.a sum all individual returns to get you full season return for the full-season play A, D, and H\n",
    "\n",
    "print(df.Return_A.sum())\n",
    "print(df.Return_D.sum())\n",
    "print(df.Return_H.sum())\n",
    "\n",
    "#g. find the net return by subtracting the DKK 1 * 3800 games = DKK 3800 you have betted during the 10 season to find your gain/loss\n",
    "\n",
    "print(df.Return_A.sum() - 3800)\n",
    "print(df.Return_D.sum() - 3800)\n",
    "print(df.Return_H.sum() - 3800)\n",
    "\n",
    "#g. find the return in percentage by dividing you gain with the DKK 1 * 3800 games = DKK 3800 you have betted during the 10 season and subtract 1.\n",
    "\n",
    "print(df.Return_A.sum() / 3800 - 1)\n",
    "print(df.Return_D.sum() / 3800 - 1)\n",
    "print(df.Return_H.sum() / 3800 - 1)\n",
    ""
   ]
  },
  {
   "cell_type": "markdown",
   "metadata": {},
   "source": [
    "# How do the pure betting strategy returns look for each individual season?"
   ]
  },
  {
   "cell_type": "code",
   "execution_count": 87,
   "metadata": {},
   "outputs": [
    {
     "output_type": "stream",
     "name": "stdout",
     "text": "H_true  D_true  A_true  Return_H  Return_D  Return_A\nSeason FTR                                                      \n09/10  A         0       0      91      0.00      0.00    260.61\n       D         0      96       0      0.00    351.49      0.00\n       H       193       0       0    416.02      0.00      0.00\n10/11  A         0       0      90      0.00      0.00    328.10\n       D         0     111       0      0.00    406.39      0.00\n       H       179       0       0    382.78      0.00      0.00\n11/12  A         0       0     116      0.00      0.00    395.24\n       D         0      93       0      0.00    348.96      0.00\n       H       171       0       0    364.77      0.00      0.00\n12/13  A         0       0     106      0.00      0.00    333.78\n       D         0     108       0      0.00    397.04      0.00\n       H       166       0       0    337.36      0.00      0.00\n13/14  A         0       0     123      0.00      0.00    389.83\n       D         0      78       0      0.00    304.97      0.00\n       H       179       0       0    388.39      0.00      0.00\n14/15  A         0       0     119      0.00      0.00    402.90\n       D         0      96       0      0.00    364.73      0.00\n       H       174       0       0    377.28      0.00      0.00\n15/16  A         0       0     112      0.00      0.00    390.75\n       D         0     104       0      0.00    389.95      0.00\n       H       155       0       0    342.73      0.00      0.00\n16/17  A         0       0     109      0.00      0.00    307.91\n       D         0      84       0      0.00    334.33      0.00\n       H       187       0       0    404.93      0.00      0.00\n17/18  A         0       0     108      0.00      0.00    322.58\n       D         0      99       0      0.00    398.84      0.00\n       H       173       0       0    390.98      0.00      0.00\n18/19  A         0       0     128      0.00      0.00    372.55\n       D         0      71       0      0.00    281.51      0.00\n       H       181       0       0    399.18      0.00      0.00\n            H_true  D_true  A_true  Return_H  Return_D  Return_A  BetW    BetR\nSeason FTR                                                                    \n09/10  A         0       0      91      0.00      0.00    260.61    91  260.61\n       D         0      96       0      0.00    351.49      0.00    96  351.49\n       H       193       0       0    416.02      0.00      0.00   193  416.02\n10/11  A         0       0      90      0.00      0.00    328.10    90  328.10\n       D         0     111       0      0.00    406.39      0.00   111  406.39\n       H       179       0       0    382.78      0.00      0.00   179  382.78\n11/12  A         0       0     116      0.00      0.00    395.24   116  395.24\n       D         0      93       0      0.00    348.96      0.00    93  348.96\n       H       171       0       0    364.77      0.00      0.00   171  364.77\n12/13  A         0       0     106      0.00      0.00    333.78   106  333.78\n       D         0     108       0      0.00    397.04      0.00   108  397.04\n       H       166       0       0    337.36      0.00      0.00   166  337.36\n13/14  A         0       0     123      0.00      0.00    389.83   123  389.83\n       D         0      78       0      0.00    304.97      0.00    78  304.97\n       H       179       0       0    388.39      0.00      0.00   179  388.39\n14/15  A         0       0     119      0.00      0.00    402.90   119  402.90\n       D         0      96       0      0.00    364.73      0.00    96  364.73\n       H       174       0       0    377.28      0.00      0.00   174  377.28\n15/16  A         0       0     112      0.00      0.00    390.75   112  390.75\n       D         0     104       0      0.00    389.95      0.00   104  389.95\n       H       155       0       0    342.73      0.00      0.00   155  342.73\n16/17  A         0       0     109      0.00      0.00    307.91   109  307.91\n       D         0      84       0      0.00    334.33      0.00    84  334.33\n       H       187       0       0    404.93      0.00      0.00   187  404.93\n17/18  A         0       0     108      0.00      0.00    322.58   108  322.58\n       D         0      99       0      0.00    398.84      0.00    99  398.84\n       H       173       0       0    390.98      0.00      0.00   173  390.98\n18/19  A         0       0     128      0.00      0.00    372.55   128  372.55\n       D         0      71       0      0.00    281.51      0.00    71  281.51\n       H       181       0       0    399.18      0.00      0.00   181  399.18\n"
    },
    {
     "output_type": "execute_result",
     "data": {
      "text/plain": "            BetW    BetR  NetNomR Return_pct\nSeason FTR                                  \n09/10  A      91  260.61  -119.39    -31.42%\n       D      96  351.49   -28.51     -7.50%\n       H     193  416.02    36.02      9.48%\n10/11  A      90  328.10   -51.90    -13.66%\n       D     111  406.39    26.39      6.94%\n       H     179  382.78     2.78      0.73%\n11/12  A     116  395.24    15.24      4.01%\n       D      93  348.96   -31.04     -8.17%\n       H     171  364.77   -15.23     -4.01%\n12/13  A     106  333.78   -46.22    -12.16%\n       D     108  397.04    17.04      4.48%\n       H     166  337.36   -42.64    -11.22%\n13/14  A     123  389.83     9.83      2.59%\n       D      78  304.97   -75.03    -19.74%\n       H     179  388.39     8.39      2.21%\n14/15  A     119  402.90    22.90      6.03%\n       D      96  364.73   -15.27     -4.02%\n       H     174  377.28    -2.72     -0.72%\n15/16  A     112  390.75    10.75      2.83%\n       D     104  389.95     9.95      2.62%\n       H     155  342.73   -37.27     -9.81%\n16/17  A     109  307.91   -72.09    -18.97%\n       D      84  334.33   -45.67    -12.02%\n       H     187  404.93    24.93      6.56%\n17/18  A     108  322.58   -57.42    -15.11%\n       D      99  398.84    18.84      4.96%\n       H     173  390.98    10.98      2.89%\n18/19  A     128  372.55    -7.45     -1.96%\n       D      71  281.51   -98.49    -25.92%\n       H     181  399.18    19.18      5.05%",
      "text/html": "<div>\n<style scoped>\n    .dataframe tbody tr th:only-of-type {\n        vertical-align: middle;\n    }\n\n    .dataframe tbody tr th {\n        vertical-align: top;\n    }\n\n    .dataframe thead th {\n        text-align: right;\n    }\n</style>\n<table border=\"1\" class=\"dataframe\">\n  <thead>\n    <tr style=\"text-align: right;\">\n      <th></th>\n      <th></th>\n      <th>BetW</th>\n      <th>BetR</th>\n      <th>NetNomR</th>\n      <th>Return_pct</th>\n    </tr>\n    <tr>\n      <th>Season</th>\n      <th>FTR</th>\n      <th></th>\n      <th></th>\n      <th></th>\n      <th></th>\n    </tr>\n  </thead>\n  <tbody>\n    <tr>\n      <td rowspan=\"3\" valign=\"top\">09/10</td>\n      <td>A</td>\n      <td>91</td>\n      <td>260.61</td>\n      <td>-119.39</td>\n      <td>-31.42%</td>\n    </tr>\n    <tr>\n      <td>D</td>\n      <td>96</td>\n      <td>351.49</td>\n      <td>-28.51</td>\n      <td>-7.50%</td>\n    </tr>\n    <tr>\n      <td>H</td>\n      <td>193</td>\n      <td>416.02</td>\n      <td>36.02</td>\n      <td>9.48%</td>\n    </tr>\n    <tr>\n      <td rowspan=\"3\" valign=\"top\">10/11</td>\n      <td>A</td>\n      <td>90</td>\n      <td>328.10</td>\n      <td>-51.90</td>\n      <td>-13.66%</td>\n    </tr>\n    <tr>\n      <td>D</td>\n      <td>111</td>\n      <td>406.39</td>\n      <td>26.39</td>\n      <td>6.94%</td>\n    </tr>\n    <tr>\n      <td>H</td>\n      <td>179</td>\n      <td>382.78</td>\n      <td>2.78</td>\n      <td>0.73%</td>\n    </tr>\n    <tr>\n      <td rowspan=\"3\" valign=\"top\">11/12</td>\n      <td>A</td>\n      <td>116</td>\n      <td>395.24</td>\n      <td>15.24</td>\n      <td>4.01%</td>\n    </tr>\n    <tr>\n      <td>D</td>\n      <td>93</td>\n      <td>348.96</td>\n      <td>-31.04</td>\n      <td>-8.17%</td>\n    </tr>\n    <tr>\n      <td>H</td>\n      <td>171</td>\n      <td>364.77</td>\n      <td>-15.23</td>\n      <td>-4.01%</td>\n    </tr>\n    <tr>\n      <td rowspan=\"3\" valign=\"top\">12/13</td>\n      <td>A</td>\n      <td>106</td>\n      <td>333.78</td>\n      <td>-46.22</td>\n      <td>-12.16%</td>\n    </tr>\n    <tr>\n      <td>D</td>\n      <td>108</td>\n      <td>397.04</td>\n      <td>17.04</td>\n      <td>4.48%</td>\n    </tr>\n    <tr>\n      <td>H</td>\n      <td>166</td>\n      <td>337.36</td>\n      <td>-42.64</td>\n      <td>-11.22%</td>\n    </tr>\n    <tr>\n      <td rowspan=\"3\" valign=\"top\">13/14</td>\n      <td>A</td>\n      <td>123</td>\n      <td>389.83</td>\n      <td>9.83</td>\n      <td>2.59%</td>\n    </tr>\n    <tr>\n      <td>D</td>\n      <td>78</td>\n      <td>304.97</td>\n      <td>-75.03</td>\n      <td>-19.74%</td>\n    </tr>\n    <tr>\n      <td>H</td>\n      <td>179</td>\n      <td>388.39</td>\n      <td>8.39</td>\n      <td>2.21%</td>\n    </tr>\n    <tr>\n      <td rowspan=\"3\" valign=\"top\">14/15</td>\n      <td>A</td>\n      <td>119</td>\n      <td>402.90</td>\n      <td>22.90</td>\n      <td>6.03%</td>\n    </tr>\n    <tr>\n      <td>D</td>\n      <td>96</td>\n      <td>364.73</td>\n      <td>-15.27</td>\n      <td>-4.02%</td>\n    </tr>\n    <tr>\n      <td>H</td>\n      <td>174</td>\n      <td>377.28</td>\n      <td>-2.72</td>\n      <td>-0.72%</td>\n    </tr>\n    <tr>\n      <td rowspan=\"3\" valign=\"top\">15/16</td>\n      <td>A</td>\n      <td>112</td>\n      <td>390.75</td>\n      <td>10.75</td>\n      <td>2.83%</td>\n    </tr>\n    <tr>\n      <td>D</td>\n      <td>104</td>\n      <td>389.95</td>\n      <td>9.95</td>\n      <td>2.62%</td>\n    </tr>\n    <tr>\n      <td>H</td>\n      <td>155</td>\n      <td>342.73</td>\n      <td>-37.27</td>\n      <td>-9.81%</td>\n    </tr>\n    <tr>\n      <td rowspan=\"3\" valign=\"top\">16/17</td>\n      <td>A</td>\n      <td>109</td>\n      <td>307.91</td>\n      <td>-72.09</td>\n      <td>-18.97%</td>\n    </tr>\n    <tr>\n      <td>D</td>\n      <td>84</td>\n      <td>334.33</td>\n      <td>-45.67</td>\n      <td>-12.02%</td>\n    </tr>\n    <tr>\n      <td>H</td>\n      <td>187</td>\n      <td>404.93</td>\n      <td>24.93</td>\n      <td>6.56%</td>\n    </tr>\n    <tr>\n      <td rowspan=\"3\" valign=\"top\">17/18</td>\n      <td>A</td>\n      <td>108</td>\n      <td>322.58</td>\n      <td>-57.42</td>\n      <td>-15.11%</td>\n    </tr>\n    <tr>\n      <td>D</td>\n      <td>99</td>\n      <td>398.84</td>\n      <td>18.84</td>\n      <td>4.96%</td>\n    </tr>\n    <tr>\n      <td>H</td>\n      <td>173</td>\n      <td>390.98</td>\n      <td>10.98</td>\n      <td>2.89%</td>\n    </tr>\n    <tr>\n      <td rowspan=\"3\" valign=\"top\">18/19</td>\n      <td>A</td>\n      <td>128</td>\n      <td>372.55</td>\n      <td>-7.45</td>\n      <td>-1.96%</td>\n    </tr>\n    <tr>\n      <td>D</td>\n      <td>71</td>\n      <td>281.51</td>\n      <td>-98.49</td>\n      <td>-25.92%</td>\n    </tr>\n    <tr>\n      <td>H</td>\n      <td>181</td>\n      <td>399.18</td>\n      <td>19.18</td>\n      <td>5.05%</td>\n    </tr>\n  </tbody>\n</table>\n</div>"
     },
     "metadata": {},
     "execution_count": 87
    }
   ],
   "source": [
    "\n",
    "\n",
    "# F. Group by seasons. Keeps booleans and results from H, D and A grouped by season. Why does, Date, AwayTeam, Hometeam disappear? Is it because they are strings?\n",
    "Season_group = df.groupby(['Season','FTR']).sum()\n",
    "drop_these = ['B365H','B365D','B365A']\n",
    "Season_group.drop(drop_these, axis=1, inplace=True)\n",
    "\n",
    "print(Season_group)\n",
    "\n",
    "#####################################################################################################################\n",
    "\n",
    "# G. Order the grouped dataframe. Sums the returns and boleans to make 6 rows into 2 rows (for presentation purposes).\n",
    "Season_group['BetW'] = Season_group.H_true + Season_group.D_true + Season_group.A_true\n",
    "Season_group['BetR'] = Season_group.Return_H + Season_group.Return_D + Season_group.Return_A\n",
    "\n",
    "print(Season_group)\n",
    "\n",
    "#####################################################################################################################\n",
    "\n",
    "# H. Final dataframe. Here the net nominal return and the return in percent are calculated.\n",
    "Bets = pd.DataFrame(Season_group, columns=['BetW', 'BetR'])\n",
    "Bets['NetNomR'] = Bets.BetR - 380\n",
    "Bets['Return_pct'] = (Bets.BetR / 380 -1)\n",
    "Bets['Return_pct'] = pd.Series([\"{0:.2f}%\".format(val * 100) for val in Bets['Return_pct']],index = Bets.index)\n",
    "Bets"
   ]
  }
 ]
}