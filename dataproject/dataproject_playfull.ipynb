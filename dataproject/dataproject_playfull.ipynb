{
 "nbformat": 4,
 "nbformat_minor": 2,
 "metadata": {
  "language_info": {
   "name": "python",
   "codemirror_mode": {
    "name": "ipython",
    "version": 3
   },
   "version": "3.7.4-final"
  },
  "orig_nbformat": 2,
  "file_extension": ".py",
  "mimetype": "text/x-python",
  "name": "python",
  "npconvert_exporter": "python",
  "pygments_lexer": "ipython3",
  "version": 3,
  "kernelspec": {
   "name": "python3",
   "display_name": "Python 3"
  }
 },
 "cells": [
  {
   "cell_type": "code",
   "execution_count": 76,
   "metadata": {},
   "outputs": [
    {
     "output_type": "stream",
     "name": "stdout",
     "text": "The autoreload extension is already loaded. To reload it, use:\n  %reload_ext autoreload\n"
    }
   ],
   "source": [
    "import pandas as pd\n",
    "from datetime import datetime\n",
    "\n",
    "# autoreload modules when code is run\n",
    "%load_ext autoreload\n",
    "%autoreload 2\n",
    "\n",
    "# local modules\n",
    "import dataproject\n",
    ""
   ]
  },
  {
   "cell_type": "code",
   "execution_count": 77,
   "metadata": {},
   "outputs": [],
   "source": [
    "# A. load data without unnecessary data\n",
    "raw_input = pd.read_csv('PL_all_seasons.csv', \\\n",
    "usecols=['Date','HomeTeam','AwayTeam','FTR','B365H','B365D','B365A'])\n",
    "\n",
    "# B. convert date from string to datetimes\n",
    "raw_input['Date'] = pd.to_datetime(raw_input['Date'], dayfirst = True)\n",
    "\n",
    "# append seasons\n",
    "# Add a new column named 'season' \n",
    "Type_new = pd.Series([])\n",
    "\n",
    "# running a for loop and asigning some values to series \n",
    "for i in range(len(raw_input)): \n",
    "    if raw_input[\"Date\"][i] < datetime(2010, 8, 10): \n",
    "        Type_new[i]=\"09/10\"\n",
    "  \n",
    "    elif raw_input[\"Date\"][i] < datetime(2011, 8, 10): \n",
    "        Type_new[i]=\"10/11\"\n",
    "  \n",
    "    elif raw_input[\"Date\"][i] < datetime(2012, 8, 10):  \n",
    "        Type_new[i]=\"11/12\"\n",
    "  \n",
    "    elif raw_input[\"Date\"][i] < datetime(2013, 8, 10):  \n",
    "        Type_new[i]=\"12/13\"\n",
    "  \n",
    "    elif raw_input[\"Date\"][i] < datetime(2014, 8, 10):  \n",
    "        Type_new[i]=\"13/14\"\n",
    "    \n",
    "    elif raw_input[\"Date\"][i] < datetime(2015, 8, 10):  \n",
    "        Type_new[i]=\"14/15\"\n",
    "  \n",
    "    elif raw_input[\"Date\"][i] < datetime(2016, 8, 10):  \n",
    "        Type_new[i]=\"15/16\"\n",
    "\n",
    "    elif raw_input[\"Date\"][i] < datetime(2017, 8, 10):  \n",
    "        Type_new[i]=\"16/17\"\n",
    "  \n",
    "    elif raw_input[\"Date\"][i] < datetime(2018, 8, 10):  \n",
    "        Type_new[i]=\"17/18\"\n",
    "  \n",
    "    elif raw_input[\"Date\"][i] < datetime(2019, 8, 10):  \n",
    "        Type_new[i]=\"18/19\"\n",
    "\n",
    "    else: \n",
    "        season[i]= raw_input[\"Date\"][i] \n",
    "  \n",
    "        \n",
    "        # inserting new column with values of list made above         \n",
    "raw_input.insert(2, \"Season\", Type_new) \n",
    "# raw_input.head(10)\n",
    "#####################################################################################################################\n",
    "\n",
    "# Combine total data frame\n",
    "\n",
    "df = pd.DataFrame(raw_input)"
   ]
  },
  {
   "cell_type": "code",
   "execution_count": 78,
   "metadata": {},
   "outputs": [
    {
     "output_type": "stream",
     "name": "stdout",
     "text": "Date     HomeTeam Season      AwayTeam FTR  B365H  B365D  B365A  \\\n0    2009-08-15  Aston Villa  09/10         Wigan   A   1.67   3.60   5.50   \n1    2009-08-15    Blackburn  09/10      Man City   A   3.60   3.25   2.10   \n2    2009-08-15       Bolton  09/10    Sunderland   A   2.25   3.25   3.25   \n3    2009-08-15      Chelsea  09/10          Hull   H   1.17   6.50  21.00   \n4    2009-08-15      Everton  09/10       Arsenal   A   3.20   3.25   2.30   \n...         ...          ...    ...           ...  ..    ...    ...    ...   \n3795 2019-05-12    Liverpool  18/19        Wolves   H   1.30   6.00  11.00   \n3796 2019-05-12   Man United  18/19       Cardiff   A   1.28   6.50  11.00   \n3797 2019-05-12  Southampton  18/19  Huddersfield   D   1.44   4.75   8.50   \n3798 2019-05-12    Tottenham  18/19       Everton   D   2.20   3.50   3.50   \n3799 2019-05-12      Watford  18/19      West Ham   A   2.25   3.75   3.20   \n\n      H_true  D_true  A_true  return_H  return_D  return_A  \n0          0       0       1      0.00      0.00      5.50  \n1          0       0       1      0.00      0.00      2.10  \n2          0       0       1      0.00      0.00      3.25  \n3          1       0       0      1.17      0.00      0.00  \n4          0       0       1      0.00      0.00      2.30  \n...      ...     ...     ...       ...       ...       ...  \n3795       1       0       0      1.30      0.00      0.00  \n3796       0       0       1      0.00      0.00     11.00  \n3797       0       1       0      0.00      4.75      0.00  \n3798       0       1       0      0.00      3.50      0.00  \n3799       0       0       1      0.00      0.00      3.20  \n\n[3800 rows x 14 columns]\n"
    },
    {
     "output_type": "error",
     "ename": "ValueError",
     "evalue": "No axis named 09/10 for object type <class 'pandas.core.frame.DataFrame'>",
     "traceback": [
      "\u001b[1;31m---------------------------------------------------------------------------\u001b[0m",
      "\u001b[1;31mValueError\u001b[0m                                Traceback (most recent call last)",
      "\u001b[1;32m<ipython-input-78-9a8d4831ca02>\u001b[0m in \u001b[0;36m<module>\u001b[1;34m\u001b[0m\n\u001b[0;32m     15\u001b[0m \u001b[1;31m# f. sum these individual returns to get you full season return\u001b[0m\u001b[1;33m\u001b[0m\u001b[1;33m\u001b[0m\u001b[1;33m\u001b[0m\u001b[0m\n\u001b[0;32m     16\u001b[0m \u001b[1;33m\u001b[0m\u001b[0m\n\u001b[1;32m---> 17\u001b[1;33m \u001b[0mprint\u001b[0m\u001b[1;33m(\u001b[0m\u001b[0mdf\u001b[0m\u001b[1;33m.\u001b[0m\u001b[0mcount\u001b[0m\u001b[1;33m(\u001b[0m\u001b[1;34m\"09/10\"\u001b[0m\u001b[1;33m,\u001b[0m \u001b[1;34m\"Season\"\u001b[0m\u001b[1;33m)\u001b[0m\u001b[1;33m)\u001b[0m\u001b[1;33m\u001b[0m\u001b[1;33m\u001b[0m\u001b[0m\n\u001b[0m\u001b[0;32m     18\u001b[0m \u001b[1;33m\u001b[0m\u001b[0m\n\u001b[0;32m     19\u001b[0m \u001b[0mnet_return_H\u001b[0m \u001b[1;33m=\u001b[0m \u001b[0mdf\u001b[0m\u001b[1;33m[\u001b[0m\u001b[0mdf\u001b[0m\u001b[1;33m.\u001b[0m\u001b[0mSeason\u001b[0m \u001b[1;33m==\u001b[0m \u001b[1;34m\"09/10\"\u001b[0m\u001b[1;33m]\u001b[0m\u001b[1;33m.\u001b[0m\u001b[0mreturn_H\u001b[0m\u001b[1;33m.\u001b[0m\u001b[0msum\u001b[0m\u001b[1;33m(\u001b[0m\u001b[1;33m)\u001b[0m\u001b[1;33m\u001b[0m\u001b[1;33m\u001b[0m\u001b[0m\n",
      "\u001b[1;32m~\\Anaconda3\\lib\\site-packages\\pandas\\core\\frame.py\u001b[0m in \u001b[0;36mcount\u001b[1;34m(self, axis, level, numeric_only)\u001b[0m\n\u001b[0;32m   7810\u001b[0m         \u001b[0mMyla\u001b[0m      \u001b[1;36m1\u001b[0m\u001b[1;33m\u001b[0m\u001b[1;33m\u001b[0m\u001b[0m\n\u001b[0;32m   7811\u001b[0m         \"\"\"\n\u001b[1;32m-> 7812\u001b[1;33m         \u001b[0maxis\u001b[0m \u001b[1;33m=\u001b[0m \u001b[0mself\u001b[0m\u001b[1;33m.\u001b[0m\u001b[0m_get_axis_number\u001b[0m\u001b[1;33m(\u001b[0m\u001b[0maxis\u001b[0m\u001b[1;33m)\u001b[0m\u001b[1;33m\u001b[0m\u001b[1;33m\u001b[0m\u001b[0m\n\u001b[0m\u001b[0;32m   7813\u001b[0m         \u001b[1;32mif\u001b[0m \u001b[0mlevel\u001b[0m \u001b[1;32mis\u001b[0m \u001b[1;32mnot\u001b[0m \u001b[1;32mNone\u001b[0m\u001b[1;33m:\u001b[0m\u001b[1;33m\u001b[0m\u001b[1;33m\u001b[0m\u001b[0m\n\u001b[0;32m   7814\u001b[0m             \u001b[1;32mreturn\u001b[0m \u001b[0mself\u001b[0m\u001b[1;33m.\u001b[0m\u001b[0m_count_level\u001b[0m\u001b[1;33m(\u001b[0m\u001b[0mlevel\u001b[0m\u001b[1;33m,\u001b[0m \u001b[0maxis\u001b[0m\u001b[1;33m=\u001b[0m\u001b[0maxis\u001b[0m\u001b[1;33m,\u001b[0m \u001b[0mnumeric_only\u001b[0m\u001b[1;33m=\u001b[0m\u001b[0mnumeric_only\u001b[0m\u001b[1;33m)\u001b[0m\u001b[1;33m\u001b[0m\u001b[1;33m\u001b[0m\u001b[0m\n",
      "\u001b[1;32m~\\Anaconda3\\lib\\site-packages\\pandas\\core\\generic.py\u001b[0m in \u001b[0;36m_get_axis_number\u001b[1;34m(cls, axis)\u001b[0m\n\u001b[0;32m    409\u001b[0m             \u001b[1;32mexcept\u001b[0m \u001b[0mKeyError\u001b[0m\u001b[1;33m:\u001b[0m\u001b[1;33m\u001b[0m\u001b[1;33m\u001b[0m\u001b[0m\n\u001b[0;32m    410\u001b[0m                 \u001b[1;32mpass\u001b[0m\u001b[1;33m\u001b[0m\u001b[1;33m\u001b[0m\u001b[0m\n\u001b[1;32m--> 411\u001b[1;33m         \u001b[1;32mraise\u001b[0m \u001b[0mValueError\u001b[0m\u001b[1;33m(\u001b[0m\u001b[1;34m\"No axis named {0} for object type {1}\"\u001b[0m\u001b[1;33m.\u001b[0m\u001b[0mformat\u001b[0m\u001b[1;33m(\u001b[0m\u001b[0maxis\u001b[0m\u001b[1;33m,\u001b[0m \u001b[0mcls\u001b[0m\u001b[1;33m)\u001b[0m\u001b[1;33m)\u001b[0m\u001b[1;33m\u001b[0m\u001b[1;33m\u001b[0m\u001b[0m\n\u001b[0m\u001b[0;32m    412\u001b[0m \u001b[1;33m\u001b[0m\u001b[0m\n\u001b[0;32m    413\u001b[0m     \u001b[1;33m@\u001b[0m\u001b[0mclassmethod\u001b[0m\u001b[1;33m\u001b[0m\u001b[1;33m\u001b[0m\u001b[0m\n",
      "\u001b[1;31mValueError\u001b[0m: No axis named 09/10 for object type <class 'pandas.core.frame.DataFrame'>"
     ]
    }
   ],
   "source": [
    "# d. add boolean of result Home, Draw, Away and then print df\n",
    "\n",
    "df['H_true'] = df['FTR'].str.count(\"H\")\n",
    "df['D_true'] = df['FTR'].str.count(\"D\")\n",
    "df['A_true'] = df['FTR'].str.count(\"A\")\n",
    "\n",
    "# e. multiply bolean of Draw (D_true) with B365 odds of draw to get each games return for you\n",
    "\n",
    "df['return_H'] = ( df.loc[:, 'H_true'] * df.loc[:, 'B365H'] )\n",
    "df['return_D'] = ( df.loc[:, 'D_true'] * df.loc[:, 'B365D'] )\n",
    "df['return_A'] = ( df.loc[:, 'A_true'] * df.loc[:, 'B365A'] )\n",
    "\n",
    "print(df)\n",
    "\n",
    "# f. sum these individual returns to get you full season return\n",
    "\n",
    "return_H = df[df.Season == \"09/10\"].return_H.sum()\n",
    "\n",
    "print(return_H)\n",
    "\n",
    "\n",
    "sum_return_D = return_D.sum()\n",
    "print(sum_return_D)\n",
    "\n",
    "#g count entries\n",
    "No_of_matches = df.Date.count()\n",
    "print(No_of_matches)\n",
    "\n",
    "#h. find the net return by subtracting the DKK 1 * No of matches = DKK x you have betted during the season to find your gain/loss\n",
    "\n",
    "net_return_D = sum_return_D - No_of_matches\n",
    "\n",
    "print(net_return_D)\n",
    "\n",
    "#i. find the return in percentage by dividing you gain with the DKK 1 * No of matches = DKK x you have betted during the season and subtract 1.\n",
    "\n",
    "net_pct_returm_D = sum_return_D / No_of_matches - 1\n",
    "\n",
    "print(net_pct_returm_D)\n",
    "\n"
   ]
  },
  {
   "cell_type": "code",
   "execution_count": 79,
   "metadata": {},
   "outputs": [
    {
     "output_type": "stream",
     "name": "stdout",
     "text": "3578.21\n3800\n-221.78999999999996\n-0.058365789473684204\n"
    }
   ],
   "source": [
    "\n",
    "\n"
   ]
  },
  {
   "cell_type": "code",
   "execution_count": 79,
   "metadata": {},
   "outputs": [],
   "source": [
    "\n",
    ""
   ]
  },
  {
   "cell_type": "code",
   "execution_count": 38,
   "metadata": {},
   "outputs": [
    {
     "output_type": "stream",
     "name": "stdout",
     "text": "Div      Date     HomeTeam      AwayTeam  FTHG  FTAG FTR  HTHG  HTAG HTR  \\\n0     E0  15/08/09  Aston Villa         Wigan     0     2   A     0     1   A   \n1     E0  15/08/09    Blackburn      Man City     0     2   A     0     1   A   \n2     E0  15/08/09       Bolton    Sunderland     0     1   A     0     1   A   \n3     E0  15/08/09      Chelsea          Hull     2     1   H     1     1   D   \n4     E0  15/08/09      Everton       Arsenal     1     6   A     0     3   A   \n...   ..       ...          ...           ...   ...   ...  ..   ...   ...  ..   \n3795  E0  12/05/19    Liverpool        Wolves     2     0   H     1     0   H   \n3796  E0  12/05/19   Man United       Cardiff     0     2   A     0     1   A   \n3797  E0  12/05/19  Southampton  Huddersfield     1     1   D     1     0   H   \n3798  E0  12/05/19    Tottenham       Everton     2     2   D     1     0   H   \n3799  E0  12/05/19      Watford      West Ham     1     4   A     0     2   A   \n\n      ... BbMx>2.5  BbAv>2.5  BbMx<2.5  BbAv<2.5  BbAH  BbAHh  BbMxAHH  \\\n0     ...     2.04      1.92      1.91      1.81  21.0    0.0     1.28   \n1     ...     2.15      2.04      1.78      1.71  24.0    0.0     2.58   \n2     ...     2.25      2.12      1.70      1.66  23.0    0.0     1.68   \n3     ...     1.67      1.58      2.44      2.26  22.0    0.0     1.03   \n4     ...     2.20      2.06      1.77      1.70  24.0    0.0     2.27   \n...   ...      ...       ...       ...       ...   ...    ...      ...   \n3795  ...     9.48       NaN       NaN       NaN   NaN    NaN      NaN   \n3796  ...     9.71       NaN       NaN       NaN   NaN    NaN      NaN   \n3797  ...     8.49       NaN       NaN       NaN   NaN    NaN      NaN   \n3798  ...     4.15       NaN       NaN       NaN   NaN    NaN      NaN   \n3799  ...     3.41       NaN       NaN       NaN   NaN    NaN      NaN   \n\n      BbAvAHH  BbMxAHA  BbAvAHA  \n0        1.22     4.40     3.99  \n1        2.38     1.60     1.54  \n2        1.61     2.33     2.23  \n3        1.02    17.05    12.96  \n4        2.20     1.73     1.63  \n...       ...      ...      ...  \n3795      NaN      NaN      NaN  \n3796      NaN      NaN      NaN  \n3797      NaN      NaN      NaN  \n3798      NaN      NaN      NaN  \n3799      NaN      NaN      NaN  \n\n[3800 rows x 71 columns]\n0       A\n1       A\n2       A\n3       H\n4       A\n       ..\n3795    H\n3796    A\n3797    D\n3798    D\n3799    A\nName: FTR, Length: 3800, dtype: object\n     FTR  B365H  B365D  B365A  H_true  D_true  A_true\n0      A   1.67   3.60   5.50       0       0       1\n1      A   3.60   3.25   2.10       0       0       1\n2      A   2.25   3.25   3.25       0       0       1\n3      H   1.17   6.50  21.00       1       0       0\n4      A   3.20   3.25   2.30       0       0       1\n...   ..    ...    ...    ...     ...     ...     ...\n3795   H   1.30   6.00  11.00       1       0       0\n3796   A   1.28   6.50  11.00       0       0       1\n3797   D   1.44   4.75   8.50       0       1       0\n3798   D   2.20   3.50   3.50       0       1       0\n3799   A   2.25   3.75   3.20       0       0       1\n\n[3800 rows x 7 columns]\n0       0.00\n1       0.00\n2       0.00\n3       1.17\n4       0.00\n        ... \n3795    1.30\n3796    0.00\n3797    0.00\n3798    0.00\n3799    0.00\nLength: 3800, dtype: float64\n3804.42\n4.420000000000073\n0.001163157894736866\n"
    }
   ],
   "source": []
  }
 ]
}