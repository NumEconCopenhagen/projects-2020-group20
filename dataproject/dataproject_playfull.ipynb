{
 "nbformat": 4,
 "nbformat_minor": 2,
 "metadata": {
  "language_info": {
   "name": "python",
   "codemirror_mode": {
    "name": "ipython",
    "version": 3
   },
   "version": "3.7.4-final"
  },
  "orig_nbformat": 2,
  "file_extension": ".py",
  "mimetype": "text/x-python",
  "name": "python",
  "npconvert_exporter": "python",
  "pygments_lexer": "ipython3",
  "version": 3,
  "kernelspec": {
   "name": "python3",
   "display_name": "Python 3"
  }
 },
 "cells": [
  {
   "cell_type": "code",
   "execution_count": 15,
   "metadata": {},
   "outputs": [
    {
     "output_type": "stream",
     "name": "stdout",
     "text": "The autoreload extension is already loaded. To reload it, use:\n  %reload_ext autoreload\n"
    }
   ],
   "source": [
    "import pandas as pd\n",
    "\n",
    "\n",
    "# autoreload modules when code is run\n",
    "%load_ext autoreload\n",
    "%autoreload 2\n",
    "\n",
    "# local modules\n",
    "import dataproject"
   ]
  },
  {
   "cell_type": "code",
   "execution_count": 16,
   "metadata": {},
   "outputs": [
    {
     "output_type": "stream",
     "name": "stdout",
     "text": "Div      Date     HomeTeam      AwayTeam  FTHG  FTAG FTR  HTHG  HTAG HTR  \\\n0     E0  15/08/09  Aston Villa         Wigan     0     2   A     0     1   A   \n1     E0  15/08/09    Blackburn      Man City     0     2   A     0     1   A   \n2     E0  15/08/09       Bolton    Sunderland     0     1   A     0     1   A   \n3     E0  15/08/09      Chelsea          Hull     2     1   H     1     1   D   \n4     E0  15/08/09      Everton       Arsenal     1     6   A     0     3   A   \n...   ..       ...          ...           ...   ...   ...  ..   ...   ...  ..   \n3795  E0  12/05/19    Liverpool        Wolves     2     0   H     1     0   H   \n3796  E0  12/05/19   Man United       Cardiff     0     2   A     0     1   A   \n3797  E0  12/05/19  Southampton  Huddersfield     1     1   D     1     0   H   \n3798  E0  12/05/19    Tottenham       Everton     2     2   D     1     0   H   \n3799  E0  12/05/19      Watford      West Ham     1     4   A     0     2   A   \n\n      ... BbMx>2.5  BbAv>2.5  BbMx<2.5  BbAv<2.5  BbAH  BbAHh  BbMxAHH  \\\n0     ...     2.04      1.92      1.91      1.81  21.0    0.0     1.28   \n1     ...     2.15      2.04      1.78      1.71  24.0    0.0     2.58   \n2     ...     2.25      2.12      1.70      1.66  23.0    0.0     1.68   \n3     ...     1.67      1.58      2.44      2.26  22.0    0.0     1.03   \n4     ...     2.20      2.06      1.77      1.70  24.0    0.0     2.27   \n...   ...      ...       ...       ...       ...   ...    ...      ...   \n3795  ...     9.48       NaN       NaN       NaN   NaN    NaN      NaN   \n3796  ...     9.71       NaN       NaN       NaN   NaN    NaN      NaN   \n3797  ...     8.49       NaN       NaN       NaN   NaN    NaN      NaN   \n3798  ...     4.15       NaN       NaN       NaN   NaN    NaN      NaN   \n3799  ...     3.41       NaN       NaN       NaN   NaN    NaN      NaN   \n\n      BbAvAHH  BbMxAHA  BbAvAHA  \n0        1.22     4.40     3.99  \n1        2.38     1.60     1.54  \n2        1.61     2.33     2.23  \n3        1.02    17.05    12.96  \n4        2.20     1.73     1.63  \n...       ...      ...      ...  \n3795      NaN      NaN      NaN  \n3796      NaN      NaN      NaN  \n3797      NaN      NaN      NaN  \n3798      NaN      NaN      NaN  \n3799      NaN      NaN      NaN  \n\n[3800 rows x 71 columns]\n0       A\n1       A\n2       A\n3       H\n4       A\n       ..\n3795    H\n3796    A\n3797    D\n3798    D\n3799    A\nName: FTR, Length: 3800, dtype: object\n     FTR  B365H  B365D  B365A  H_true  D_true  A_true\n0      A   1.67   3.60   5.50       0       0       1\n1      A   3.60   3.25   2.10       0       0       1\n2      A   2.25   3.25   3.25       0       0       1\n3      H   1.17   6.50  21.00       1       0       0\n4      A   3.20   3.25   2.30       0       0       1\n...   ..    ...    ...    ...     ...     ...     ...\n3795   H   1.30   6.00  11.00       1       0       0\n3796   A   1.28   6.50  11.00       0       0       1\n3797   D   1.44   4.75   8.50       0       1       0\n3798   D   2.20   3.50   3.50       0       1       0\n3799   A   2.25   3.75   3.20       0       0       1\n\n[3800 rows x 7 columns]\n0       0.00\n1       0.00\n2       0.00\n3       0.00\n4       0.00\n        ... \n3795    0.00\n3796    0.00\n3797    4.75\n3798    3.50\n3799    0.00\nLength: 3800, dtype: float64\n3578.21\n-221.78999999999996\n-0.058365789473684204\n"
    }
   ],
   "source": [
    "# a. load PL data\n",
    "pl = pd.read_csv('pl_all_seasons.csv')\n",
    "\n",
    "# b. print PL data\n",
    "\n",
    "print(pl)\n",
    "\n",
    "print(pl.loc[:, 'FTR'])\n",
    "\n",
    "# c. choose relevant data in df\n",
    "\n",
    "df = pd.DataFrame(pl,  columns=['FTR', 'B365H', 'B365D', 'B365A'])\n",
    "\n",
    "# d. add boolean of result Home, Draw, Away and then print df\n",
    "\n",
    "df['H_true'] = df['FTR'].str.count(\"H\")\n",
    "df['D_true'] = df['FTR'].str.count(\"D\")\n",
    "df['A_true'] = df['FTR'].str.count(\"A\")\n",
    "\n",
    "print(df)\n",
    "\n",
    "# e. multiply bolean of Draw (D_true) with B365 odds of draw to get each games return for you\n",
    "\n",
    "return_D = ( df.loc[:, 'D_true'] * df.loc[:, 'B365D'] )\n",
    "\n",
    "print(return_D)\n",
    "\n",
    "# f. sum these individual returns to get you full season return\n",
    "\n",
    "sum_return_D = return_D.sum()\n",
    "\n",
    "print(sum_return_D)\n",
    "\n",
    "#g. find the net return by subtracting the DKK 1 * 380 games = DKK 3800 you have betted during the season to find your gain/loss\n",
    "\n",
    "net_return_D = sum_return_D - 3800\n",
    "\n",
    "print(net_return_D)\n",
    "\n",
    "#g. find the return in percentage by dividing you gain with the DKK 1 * 380 games = DKK 3800 you have betted during the season and subtract 1.\n",
    "\n",
    "net_pct_returm_D = sum_return_D / 3800 - 1\n",
    "\n",
    "print(net_pct_returm_D)\n",
    ""
   ]
  },
  {
   "cell_type": "code",
   "execution_count": 17,
   "metadata": {},
   "outputs": [
    {
     "output_type": "stream",
     "name": "stdout",
     "text": "Div      Date     HomeTeam      AwayTeam  FTHG  FTAG FTR  HTHG  HTAG HTR  \\\n0     E0  15/08/09  Aston Villa         Wigan     0     2   A     0     1   A   \n1     E0  15/08/09    Blackburn      Man City     0     2   A     0     1   A   \n2     E0  15/08/09       Bolton    Sunderland     0     1   A     0     1   A   \n3     E0  15/08/09      Chelsea          Hull     2     1   H     1     1   D   \n4     E0  15/08/09      Everton       Arsenal     1     6   A     0     3   A   \n...   ..       ...          ...           ...   ...   ...  ..   ...   ...  ..   \n3795  E0  12/05/19    Liverpool        Wolves     2     0   H     1     0   H   \n3796  E0  12/05/19   Man United       Cardiff     0     2   A     0     1   A   \n3797  E0  12/05/19  Southampton  Huddersfield     1     1   D     1     0   H   \n3798  E0  12/05/19    Tottenham       Everton     2     2   D     1     0   H   \n3799  E0  12/05/19      Watford      West Ham     1     4   A     0     2   A   \n\n      ... BbMx>2.5  BbAv>2.5  BbMx<2.5  BbAv<2.5  BbAH  BbAHh  BbMxAHH  \\\n0     ...     2.04      1.92      1.91      1.81  21.0    0.0     1.28   \n1     ...     2.15      2.04      1.78      1.71  24.0    0.0     2.58   \n2     ...     2.25      2.12      1.70      1.66  23.0    0.0     1.68   \n3     ...     1.67      1.58      2.44      2.26  22.0    0.0     1.03   \n4     ...     2.20      2.06      1.77      1.70  24.0    0.0     2.27   \n...   ...      ...       ...       ...       ...   ...    ...      ...   \n3795  ...     9.48       NaN       NaN       NaN   NaN    NaN      NaN   \n3796  ...     9.71       NaN       NaN       NaN   NaN    NaN      NaN   \n3797  ...     8.49       NaN       NaN       NaN   NaN    NaN      NaN   \n3798  ...     4.15       NaN       NaN       NaN   NaN    NaN      NaN   \n3799  ...     3.41       NaN       NaN       NaN   NaN    NaN      NaN   \n\n      BbAvAHH  BbMxAHA  BbAvAHA  \n0        1.22     4.40     3.99  \n1        2.38     1.60     1.54  \n2        1.61     2.33     2.23  \n3        1.02    17.05    12.96  \n4        2.20     1.73     1.63  \n...       ...      ...      ...  \n3795      NaN      NaN      NaN  \n3796      NaN      NaN      NaN  \n3797      NaN      NaN      NaN  \n3798      NaN      NaN      NaN  \n3799      NaN      NaN      NaN  \n\n[3800 rows x 71 columns]\n0       A\n1       A\n2       A\n3       H\n4       A\n       ..\n3795    H\n3796    A\n3797    D\n3798    D\n3799    A\nName: FTR, Length: 3800, dtype: object\n     FTR  B365H  B365D  B365A  H_true  D_true  A_true\n0      A   1.67   3.60   5.50       0       0       1\n1      A   3.60   3.25   2.10       0       0       1\n2      A   2.25   3.25   3.25       0       0       1\n3      H   1.17   6.50  21.00       1       0       0\n4      A   3.20   3.25   2.30       0       0       1\n...   ..    ...    ...    ...     ...     ...     ...\n3795   H   1.30   6.00  11.00       1       0       0\n3796   A   1.28   6.50  11.00       0       0       1\n3797   D   1.44   4.75   8.50       0       1       0\n3798   D   2.20   3.50   3.50       0       1       0\n3799   A   2.25   3.75   3.20       0       0       1\n\n[3800 rows x 7 columns]\n0        5.50\n1        2.10\n2        3.25\n3        0.00\n4        2.30\n        ...  \n3795     0.00\n3796    11.00\n3797     0.00\n3798     0.00\n3799     3.20\nLength: 3800, dtype: float64\n3504.25\n-295.75\n-0.07782894736842105\n"
    }
   ],
   "source": [
    "# a. load PL data\n",
    "pl = pd.read_csv('pl_all_seasons.csv')\n",
    "\n",
    "# b. print PL data\n",
    "\n",
    "print(pl)\n",
    "\n",
    "print(pl.loc[:, 'FTR'])\n",
    "\n",
    "# c. choose relevant data in df\n",
    "\n",
    "df = pd.DataFrame(pl,  columns=['FTR', 'B365H', 'B365D', 'B365A'])\n",
    "\n",
    "# d. add boolean of result Home, Draw, Away and then print df\n",
    "\n",
    "df['H_true'] = df['FTR'].str.count(\"H\")\n",
    "df['D_true'] = df['FTR'].str.count(\"D\")\n",
    "df['A_true'] = df['FTR'].str.count(\"A\")\n",
    "\n",
    "print(df)\n",
    "\n",
    "# e. multiply bolean of Draw (A_true) with B365 odds of draw to get each games return for you\n",
    "\n",
    "return_A = ( df.loc[:, 'A_true'] * df.loc[:, 'B365A'] )\n",
    "\n",
    "print(return_A)\n",
    "\n",
    "# f. sum these individual returns to get you full season return\n",
    "\n",
    "sum_return_A = return_A.sum()\n",
    "\n",
    "print(sum_return_A)\n",
    "\n",
    "#g. find the net return by subtracting the DKK 1 * 3800 games = DKK 3800 you have betted during the season to find your gain/loss\n",
    "\n",
    "net_return_A = sum_return_A - 3800\n",
    "\n",
    "print(net_return_A)\n",
    "\n",
    "#g. find the return in percentage by dividing you gain with the DKK 1 * 3800 games = DKK 3800 you have betted during the season and subtract 1.\n",
    "\n",
    "net_pct_returm_A = sum_return_A / 3800 - 1\n",
    "\n",
    "print(net_pct_returm_A)\n",
    ""
   ]
  },
  {
   "cell_type": "code",
   "execution_count": 18,
   "metadata": {},
   "outputs": [
    {
     "output_type": "stream",
     "name": "stdout",
     "text": "Div      Date     HomeTeam      AwayTeam  FTHG  FTAG FTR  HTHG  HTAG HTR  \\\n0     E0  15/08/09  Aston Villa         Wigan     0     2   A     0     1   A   \n1     E0  15/08/09    Blackburn      Man City     0     2   A     0     1   A   \n2     E0  15/08/09       Bolton    Sunderland     0     1   A     0     1   A   \n3     E0  15/08/09      Chelsea          Hull     2     1   H     1     1   D   \n4     E0  15/08/09      Everton       Arsenal     1     6   A     0     3   A   \n...   ..       ...          ...           ...   ...   ...  ..   ...   ...  ..   \n3795  E0  12/05/19    Liverpool        Wolves     2     0   H     1     0   H   \n3796  E0  12/05/19   Man United       Cardiff     0     2   A     0     1   A   \n3797  E0  12/05/19  Southampton  Huddersfield     1     1   D     1     0   H   \n3798  E0  12/05/19    Tottenham       Everton     2     2   D     1     0   H   \n3799  E0  12/05/19      Watford      West Ham     1     4   A     0     2   A   \n\n      ... BbMx>2.5  BbAv>2.5  BbMx<2.5  BbAv<2.5  BbAH  BbAHh  BbMxAHH  \\\n0     ...     2.04      1.92      1.91      1.81  21.0    0.0     1.28   \n1     ...     2.15      2.04      1.78      1.71  24.0    0.0     2.58   \n2     ...     2.25      2.12      1.70      1.66  23.0    0.0     1.68   \n3     ...     1.67      1.58      2.44      2.26  22.0    0.0     1.03   \n4     ...     2.20      2.06      1.77      1.70  24.0    0.0     2.27   \n...   ...      ...       ...       ...       ...   ...    ...      ...   \n3795  ...     9.48       NaN       NaN       NaN   NaN    NaN      NaN   \n3796  ...     9.71       NaN       NaN       NaN   NaN    NaN      NaN   \n3797  ...     8.49       NaN       NaN       NaN   NaN    NaN      NaN   \n3798  ...     4.15       NaN       NaN       NaN   NaN    NaN      NaN   \n3799  ...     3.41       NaN       NaN       NaN   NaN    NaN      NaN   \n\n      BbAvAHH  BbMxAHA  BbAvAHA  \n0        1.22     4.40     3.99  \n1        2.38     1.60     1.54  \n2        1.61     2.33     2.23  \n3        1.02    17.05    12.96  \n4        2.20     1.73     1.63  \n...       ...      ...      ...  \n3795      NaN      NaN      NaN  \n3796      NaN      NaN      NaN  \n3797      NaN      NaN      NaN  \n3798      NaN      NaN      NaN  \n3799      NaN      NaN      NaN  \n\n[3800 rows x 71 columns]\n0       A\n1       A\n2       A\n3       H\n4       A\n       ..\n3795    H\n3796    A\n3797    D\n3798    D\n3799    A\nName: FTR, Length: 3800, dtype: object\n     FTR  B365H  B365D  B365A  H_true  D_true  A_true\n0      A   1.67   3.60   5.50       0       0       1\n1      A   3.60   3.25   2.10       0       0       1\n2      A   2.25   3.25   3.25       0       0       1\n3      H   1.17   6.50  21.00       1       0       0\n4      A   3.20   3.25   2.30       0       0       1\n...   ..    ...    ...    ...     ...     ...     ...\n3795   H   1.30   6.00  11.00       1       0       0\n3796   A   1.28   6.50  11.00       0       0       1\n3797   D   1.44   4.75   8.50       0       1       0\n3798   D   2.20   3.50   3.50       0       1       0\n3799   A   2.25   3.75   3.20       0       0       1\n\n[3800 rows x 7 columns]\n0       0.00\n1       0.00\n2       0.00\n3       1.17\n4       0.00\n        ... \n3795    1.30\n3796    0.00\n3797    0.00\n3798    0.00\n3799    0.00\nLength: 3800, dtype: float64\n3804.42\n4.420000000000073\n0.001163157894736866\n"
    }
   ],
   "source": [
    "# a. load PL data\n",
    "pl = pd.read_csv('pl_all_seasons.csv')\n",
    "\n",
    "# b. print PL data\n",
    "\n",
    "print(pl)\n",
    "\n",
    "print(pl.loc[:, 'FTR'])\n",
    "\n",
    "# c. choose relevant data in df\n",
    "\n",
    "df = pd.DataFrame(pl,  columns=['FTR', 'B365H', 'B365D', 'B365A'])\n",
    "\n",
    "# d. add boolean of result Home, Draw, Away and then print df\n",
    "\n",
    "df['H_true'] = df['FTR'].str.count(\"H\")\n",
    "df['D_true'] = df['FTR'].str.count(\"D\")\n",
    "df['A_true'] = df['FTR'].str.count(\"A\")\n",
    "\n",
    "print(df)\n",
    "\n",
    "# e. multiply bolean of Draw (H_true) with B365 odds of draw to get each games return for you\n",
    "\n",
    "return_H = ( df.loc[:, 'H_true'] * df.loc[:, 'B365H'] )\n",
    "\n",
    "print(return_H)\n",
    "\n",
    "# f. sum these individual returns to get you full season return\n",
    "\n",
    "sum_return_H = return_H.sum()\n",
    "\n",
    "print(sum_return_H)\n",
    "\n",
    "#g. find the net return by subtracting the DKK 1 * 3800 games = DKK 3800 you have betted during the season to find your gain/loss\n",
    "\n",
    "net_return_H = sum_return_H - 3800\n",
    "\n",
    "print(net_return_H)\n",
    "\n",
    "#g. find the return in percentage by dividing you gain with the DKK 1 * 3800 games = DKK 3800 you have betted during the season and subtract 1.\n",
    "\n",
    "net_pct_returm_H = sum_return_H / 3800 - 1\n",
    "\n",
    "print(net_pct_returm_H)\n",
    ""
   ]
  }
 ]
}