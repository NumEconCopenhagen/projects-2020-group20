{
 "cells": [
  {
   "cell_type": "markdown",
   "metadata": {},
   "source": [
    "<h1> Model Project </h1>"
   ]
  },
  {
   "cell_type": "markdown",
   "metadata": {},
   "source": [
    "# The Optimal Asshole Portfolio\n",
    "\n",
    "## Aim of project and underlying assumptions:\n",
    "\n",
    "The aim of this project is to find the optimal portfolio combination of the following stocks:\n",
    "- RCI Hospitality Holdings Inc (RICK)\n",
    "- Philip Morris International (PM)\n",
    "- AeroVironment, Inc. (AVAV)\n",
    "- Ferrari N.V. (RACE)\n",
    "- Las Vegas Sands (LVS)\n",
    "- Canopy Growth (CGC)\n",
    "- Tiffany & Co. (TIF)\n",
    "- Tesla Motors (TSLA)\n",
    "\n",
    "To find the optimal portfolio, we take an offset in Modern Portfolio Theory, finding the portfolio combination that bears the lowest risk i.e. the Minimum Variance Portolio (MVP).  To find the optimal portfolio, we furthermore make use of the Capital Asset Pricing Model (CAPM), which ultimately gives us the portfolio with the optimal ratio between expected return and risk i.e where we maximze the sharpe-ratio.  \n",
    "\n",
    "In our model we make the following assumptions: \n",
    "\n",
    "- Investors are rational and risk-averse. \n",
    "- Historical returns is representative for future returns.\n",
    "- Investors are price takers, meaning they cannot influence future prices.\n",
    "- No transaction cost\n",
    "- Investors can lend and borrow unlimited at the same risk free rate\n",
    "\n",
    "Lastly we assume 253 trading days a year, and look at data from january 1st 2010 untill january 1st 2020 to make our estimations. Therfore our results will be showing the optimal portfolio per January 1st 2020. "
   ]
  },
  {
   "cell_type": "markdown",
   "metadata": {},
   "source": [
    "<h4> Theory of CAPM: </h4>"
   ]
  },
  {
   "cell_type": "markdown",
   "metadata": {},
   "source": [
    "CAPM solves the expected return of a risky assets. This can be expressed as: "
   ]
  },
  {
   "cell_type": "markdown",
   "metadata": {},
   "source": [
    "$$\n",
    "E R_i = R_f + \\beta_i (E R_m - R_f)\n",
    "$$"
   ]
  },
  {
   "cell_type": "markdown",
   "metadata": {},
   "source": [
    "Where: "
   ]
  },
  {
   "cell_type": "markdown",
   "metadata": {},
   "source": [
    "$E R_i =$ Expected return of investment <br>\n",
    "$R_f =$ risk-free rate <br>\n",
    "$\\beta_i =$ beta of the investment <br>\n",
    "$E R_m - R_f =$ market risk premium"
   ]
  },
  {
   "cell_type": "markdown",
   "metadata": {},
   "source": [
    "Three assumptions underlie the CAPM as well. These are: "
   ]
  },
  {
   "cell_type": "markdown",
   "metadata": {},
   "source": [
    "1. <i>Investors can buy and sell all securities at competitive market prices and can borrow and lend at the risk-free interest rate</i>\n",
    "2. <i>Investors hold only efficient portfolios of traded securities</i>\n",
    "3. <i>Investors have homogenous expectations</i>\n",
    "\n",
    "> <i>Source: Berk & DeMarzo, 2014</i>"
   ]
  },
  {
   "cell_type": "markdown",
   "metadata": {},
   "source": [
    "The risk-free rate will is this assignment equal the rate on a 10-year US treasury bill by the last trading date in 2019. <br>\n",
    "<br>\n",
    "Investment <i>i</i> is the optimized/minimized portfolio - either by minimizing the variance and thereby result in the mininum variance portfolio or optimizing the sharpe ratio and thereby optimizing the risk-adjusted return of the portfolio. <br>\n",
    "<br>"
   ]
  },
  {
   "cell_type": "markdown",
   "metadata": {},
   "source": [
    "Average annualized return for an asset, <i>i</i>:\n",
    "\n",
    "$$\n",
    "\\bar{R_i} = \\frac{1}{T} \\sum_{i=1}^T R_i \\times d \\hspace{10mm} \\\\ \n",
    "$$\n",
    "$\n",
    "\\textit{Where T is days and d is average annual trading days}\n",
    "$"
   ]
  },
  {
   "cell_type": "markdown",
   "metadata": {},
   "source": [
    "Logarithm of daily returns for an asset, <i>i</i>:\n",
    "\n",
    "$$\n",
    "Log(\\textit{Daily return}) = Log \\Big(\\frac{P_t}{P_{t-1}} - 1 \\Big)\n",
    "$$"
   ]
  },
  {
   "cell_type": "markdown",
   "metadata": {},
   "source": [
    "Covariance betwteen asset, <i>i</i> and asset, <i>j</i> from historical data:\n",
    "$$\n",
    "Cov(R_i,R_j) = \\frac{1}{T-1} {\\sum}_t (R_{i,t} - \\bar{R_i})(R_{j,t}- \\bar{R_j})\n",
    "$$"
   ]
  },
  {
   "cell_type": "markdown",
   "metadata": {},
   "source": [
    "Portfolio return:<br>\n",
    "As the weights, <i>x</i>, always adds up to 1, it can be expressed as a sum: $w_i = \\sum_i x_i = 1$. As a portfolio holds numerous of risky assets with different weights, the return of a portfolio is expressed as: <br>\n",
    "$$\n",
    "R_p = x_1 R_1 + x_2 R_2 +\\text{...}+ x_n R_n = {\\sum}_i x_i R_i\n",
    "$$ <br>\n"
   ]
  },
  {
   "cell_type": "markdown",
   "metadata": {},
   "source": [
    "Standard deviation (volatity) of a portfolio: <br>\n",
    "\n",
    "$$\n",
    "SD(R_p) = {\\sum}_i \\overbrace{x_i \\times SD(R_i) \\times Corr(R_i,R_p)}^{\\textit{i's contribution ot the volatility of the portfolio}}\n",
    "$$\n"
   ]
  },
  {
   "cell_type": "markdown",
   "metadata": {},
   "source": [
    "Sharpe ratio:\n",
    "\n",
    "$$\n",
    "\\text{Sharpe Ratio =} \\hspace{2mm} \\frac{\\text{Portfolio Excess Return}}{\\text{Portfolio Volatility}} = \\frac{E[R_p] - r_f}{SD(R_p)} = S(p)\n",
    "$$"
   ]
  },
  {
   "cell_type": "markdown",
   "metadata": {},
   "source": [
    "Beta of a portfolio:\n",
    "$$\n",
    "\\beta_p = \\sum_i x_i \\frac{Cov(R_i,R_{mkt})}{Var(R_{mkt})} \n",
    "$$"
   ]
  },
  {
   "cell_type": "markdown",
   "metadata": {},
   "source": [
    "Optimize sharpe ratio: <br>\n",
    "$$\n",
    "\\textit{arg max} \\hspace{1mm} S(p) \\hspace{5mm} \\text{s.t.} \\hspace{5mm} Cov(R_i,R_j)^{-1} \\times w_i \n",
    "$$"
   ]
  },
  {
   "cell_type": "markdown",
   "metadata": {},
   "source": [
    "Minimize variance for the portfolio: <br>\n",
    "$$\n",
    "\\textit{Min} \\hspace{1mm} SD(R_p) \\hspace{5mm} \\text{s.t.} \\hspace{5mm} Cov(R_i,R_j)^{-1} \\times 1,\\hspace{1mm} w_i = 1\n",
    "$$"
   ]
  }
 ],
 "metadata": {
  "kernelspec": {
   "display_name": "Python 3",
   "language": "python",
   "name": "python3"
  },
  "language_info": {
   "codemirror_mode": {
    "name": "ipython",
    "version": 3
   },
   "file_extension": ".py",
   "mimetype": "text/x-python",
   "name": "python",
   "nbconvert_exporter": "python",
   "pygments_lexer": "ipython3",
   "version": "3.7.4"
  }
 },
 "nbformat": 4,
 "nbformat_minor": 4
}
